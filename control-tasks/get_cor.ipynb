{
 "cells": [
  {
   "cell_type": "code",
   "execution_count": 164,
   "metadata": {},
   "outputs": [],
   "source": [
    "import yaml\n",
    "from run_experiment import choose_dataset_class,choose_task_classes\n",
    "\n",
    "import torch\n",
    "import numpy as np\n",
    "from collections import Counter"
   ]
  },
  {
   "cell_type": "code",
   "execution_count": 10,
   "metadata": {},
   "outputs": [],
   "source": [
    "# 0. read the embeddings and labesl\n",
    "yaml_args= yaml.load(open('../SA-config/en_ewt-pos-get_cor.yaml'))\n",
    "\n",
    "dataset_class = choose_dataset_class(yaml_args)\n",
    "\n",
    "task_class, reporter_class, loss_class = choose_task_classes(yaml_args)\n",
    "\n",
    "task = task_class(yaml_args)\n",
    "\n",
    "expt_dataset = dataset_class(yaml_args, task)"
   ]
  },
  {
   "cell_type": "code",
   "execution_count": 64,
   "metadata": {},
   "outputs": [
    {
     "data": {
      "text/plain": [
       "(204609, 50)"
      ]
     },
     "execution_count": 64,
     "metadata": {},
     "output_type": "execute_result"
    }
   ],
   "source": [
    "# 1. prepare the label matrix.\n",
    "labels=[]\n",
    "for obser in train_data.observations:\n",
    "    labels.append(task.labels(obser))\n",
    "\n",
    "all_labels = torch.cat(labels, 0).numpy().astype(int)\n",
    "\n",
    "all_labels.shape\n",
    "all_labels_mat= np.zeros((all_labels.size, all_labels.max()+1))\n",
    "all_labels_mat[np.arange(all_labels.size),all_labels] = 1\n",
    "all_labels_mat.shape"
   ]
  },
  {
   "cell_type": "code",
   "execution_count": 53,
   "metadata": {},
   "outputs": [
    {
     "data": {
      "text/plain": [
       "(204609, 768)"
      ]
     },
     "execution_count": 53,
     "metadata": {},
     "output_type": "execute_result"
    }
   ],
   "source": [
    "# 2. prepare the embedding matrix.\n",
    "\n",
    "embeddings=[]\n",
    "for obser in train_data.observations:\n",
    "    embeddings.append(obser.embeddings)\n",
    "\n",
    "all_embeddings = torch.cat(embeddings, 0).numpy()\n",
    "\n",
    "all_embeddings.shape"
   ]
  },
  {
   "cell_type": "code",
   "execution_count": 137,
   "metadata": {},
   "outputs": [
    {
     "data": {
      "text/plain": [
       "(50, 768)"
      ]
     },
     "execution_count": 137,
     "metadata": {},
     "output_type": "execute_result"
    }
   ],
   "source": [
    "# 3. compute the corrcoef matrix. \n",
    "# num=204609\n",
    "# corr_mat_whole = np.corrcoef(all_labels_mat[0:num].T, all_embeddings[0:num].T)\n",
    "corr_mat_whole = np.corrcoef(all_labels_mat.T, all_embeddings.T)\n",
    "corr_mat=np.absolute(corr_mat_whole[0:50,50:])\n",
    "corr_mat.shape"
   ]
  },
  {
   "cell_type": "code",
   "execution_count": null,
   "metadata": {},
   "outputs": [],
   "source": [
    "# 4. output the corr_mat data. dump as a pkl.\n"
   ]
  },
  {
   "cell_type": "code",
   "execution_count": 195,
   "metadata": {},
   "outputs": [],
   "source": [
    "# 4. output the corr_sum_dim\n",
    "# we compute the corr score of each dim for all the 50 pos labels.\n",
    "dim_sum=[]\n",
    "for i in range(768):\n",
    "    dim_sum.append(np.sum(corr_mat[:,i]))\n",
    "\n",
    "corr_sum_dim=np.argsort(dim_sum)[::-1]\n",
    "with open('../SA-dim-files/average_corr_dim.tsv','w') as fout:\n",
    "    for dim in corr_sum_dim:\n",
    "        fout.write('{} '.format(dim))"
   ]
  },
  {
   "cell_type": "code",
   "execution_count": 193,
   "metadata": {},
   "outputs": [],
   "source": [
    "# 5. output the weighted_average_corr_dim\n",
    "# we compute the weighted average corr socre of each dim for all the pos labels\n",
    "\n",
    "# 5.1 get the distribution/weights \n",
    "all_labels\n",
    "result = Counter(all_labels)\n",
    "weights = [result[i]/len(all_labels) for i in range(50)]\n",
    "\n",
    "\n",
    "\n",
    "# 5.2 get the weighted score\n",
    "dim_weighted_average=[]\n",
    "for i in range(768):\n",
    "    dim_weighted_average.append(np.average(corr_mat[:,i],weights=weights))\n",
    "    \n",
    "# 5.3 output the dims\n",
    "dim_weighted_average_dim=np.argsort(dim_weighted_average)[::-1]\n",
    "with open('../SA-dim-files/weighted_average_corr_dim.tsv','w') as fout:\n",
    "    for dim in dim_weighted_average_dim:\n",
    "        fout.write('{} '.format(dim))"
   ]
  },
  {
   "cell_type": "code",
   "execution_count": 194,
   "metadata": {},
   "outputs": [],
   "source": [
    "# 6. output the max_corr\n",
    "max_val=[]\n",
    "for i in range(768):\n",
    "    max_val.append(np.max(corr_mat[:,i]))\n",
    "\n",
    "dim_max_val=np.argsort(max_val)[::-1]\n",
    "with open('../SA-dim-files/max_corr_dim.tsv','w') as fout:\n",
    "    for dim in dim_weighted_average_dim:\n",
    "        fout.write('{} '.format(dim))"
   ]
  },
  {
   "cell_type": "code",
   "execution_count": 191,
   "metadata": {},
   "outputs": [
    {
     "data": {
      "text/plain": [
       "(0.08341785709925074,\n",
       " 0.19993299987706492,\n",
       " 0.4437054850588246,\n",
       " 0.4437054850588246)"
      ]
     },
     "execution_count": 191,
     "metadata": {},
     "output_type": "execute_result"
    }
   ],
   "source": [
    "np.max(dim_sum),np.max(dim_weighted_average),np.max(corr_mat),np.max(max_val)"
   ]
  }
 ],
 "metadata": {
  "kernelspec": {
   "display_name": "conda-base",
   "language": "python",
   "name": "base"
  },
  "language_info": {
   "codemirror_mode": {
    "name": "ipython",
    "version": 3
   },
   "file_extension": ".py",
   "mimetype": "text/x-python",
   "name": "python",
   "nbconvert_exporter": "python",
   "pygments_lexer": "ipython3",
   "version": "3.7.4"
  }
 },
 "nbformat": 4,
 "nbformat_minor": 4
}
