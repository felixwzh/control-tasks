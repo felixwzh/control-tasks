{
 "cells": [
  {
   "cell_type": "code",
   "execution_count": 2,
   "metadata": {},
   "outputs": [],
   "source": [
    "import yaml"
   ]
  },
  {
   "cell_type": "code",
   "execution_count": 3,
   "metadata": {},
   "outputs": [
    {
     "name": "stderr",
     "output_type": "stream",
     "text": [
      "/home/felix/anaconda3/lib/python3.7/site-packages/ipykernel_launcher.py:1: YAMLLoadWarning: calling yaml.load() without Loader=... is deprecated, as the default Loader is unsafe. Please read https://msg.pyyaml.org/load for full details.\n",
      "  \"\"\"Entry point for launching an IPython kernel.\n"
     ]
    }
   ],
   "source": [
    "yaml_args= yaml.load(open('SA-config/en_ewt-pos-corrupted0-rank1000-1hid-BERT-base-1-SA-50.yaml'))"
   ]
  },
  {
   "cell_type": "code",
   "execution_count": 9,
   "metadata": {},
   "outputs": [],
   "source": [
    "\n",
    "\n",
    "\n",
    "maximum_rank = 1000 # [1000,300,50,10]\n",
    "model_layer = 1 # [1,3,6,9,12]\n",
    "\n",
    "dim_num_list = [768, 400, 300, 200, 150, 125, 100, 90, 80, 70, 60, 50, 40, 30, 20,18,16,14,12,10,9,8,7,6,5,4,3,2,1]\n",
    "corrupted_token_percent = 0.0 # [0.0, 1.0]\n",
    "corr_compute_method = 'average' # ['average', 'weighted_average', 'max', 'random']\n",
    "dim_file = 'SA-dim-files/{}_corr_dim.tsv'.format(corr_compute_method) \n",
    "# ['SA-dim-files/average_corr_dim.tsv','SA-dim-files/weighted_average_corr_dim.tsv','SA-dim-files/max_corr_dim.tsv']\n",
    "\n",
    "hidden_layer=1\n",
    "exp_group_name='layer-{}-maximum_rank-{}'.format(model_layer,maximum_rank)\n",
    "results_file = 'hid-{}-results-{}.csv'.format(hidden_layer,exp_group_name)\n",
    "bash_file = 'scripts/hid-{}-exp-{}.sh'.format(hidden_layer,exp_group_name)\n",
    "comment = 'hid-{}-exp-{}'.format(hidden_layer,exp_group_name)\n",
    "\n",
    "def gen_bash_file(maximum_rank,dim_num_list,comment,corrupted_token_percent,dim_file,model_layer,results_file,bash_file,corr_compute_method,hidden_layers,CUDA_VISIBLE_DEVICES,do_sub_dim_rest=False):\n",
    "\n",
    "    yaml_args= yaml.load(open('SA-config/en_ewt-pos-corrupted0-rank1000-1hid-BERT-base-1-SA-50.yaml'))\n",
    "    \n",
    "\n",
    "    \n",
    "    for dim_num in dim_num_list:\n",
    "        yaml_args['dataset']['sub_dim']['dim_num']=dim_num\n",
    "        \n",
    "        if do_sub_dim_rest:\n",
    "            yaml_args['dataset']['sub_dim']['do_sub_dim_rest']=True\n",
    "            yaml_args['dataset']['sub_dim']['do_sub_dim']=False\n",
    "            yaml_args['model']['hidden_dim']=768-dim_num\n",
    "        else:\n",
    "            yaml_args['dataset']['sub_dim']['do_sub_dim_rest']=False\n",
    "            yaml_args['dataset']['sub_dim']['do_sub_dim']=True\n",
    "            yaml_args['model']['hidden_dim']=dim_num\n",
    "        \n",
    "        yaml_args['model']['model_layer']=model_layer-1\n",
    "\n",
    "        yaml_args['dataset']['sub_dim']['dim_file']=dim_file\n",
    "        yaml_args['dataset']['batch_size']=200\n",
    "        \n",
    "        \n",
    "        yaml_args['probe']['maximum_rank']=maximum_rank\n",
    "        yaml_args['probe']['misc']['corrupted_token_percent']=corrupted_token_percent\n",
    "        yaml_args['probe']['hidden_layers']=hidden_layers        \n",
    "        yaml_args['reporting']['comment']=comment\n",
    "        yaml_args['reporting']['results_file']=results_file\n",
    "\n",
    "        \n",
    "        out_file='SA-config/en_ewt-pos-corrupted{}-rank{}-{}-hid-BERT-base-layer-{}-SA-{}-corr-{}.yaml'.format(int(corrupted_token_percent),\n",
    "                                                                                                       maximum_rank,\n",
    "                                                                                                               hidden_layers,\n",
    "                                                                                                             model_layer,\n",
    "                                                                                                       dim_num,\n",
    "                                                                                                       corr_compute_method)\n",
    "        with open(out_file, 'w') as file:\n",
    "            documents = yaml.dump(yaml_args, file)\n",
    "        with open(bash_file, 'a') as fout:\n",
    "            fout.write('CUDA_VISIBLE_DEVICES={} python control-tasks/run_experiment.py '.format(CUDA_VISIBLE_DEVICES)+out_file+'\\n')\n",
    "        \n"
   ]
  },
  {
   "cell_type": "code",
   "execution_count": 18,
   "metadata": {
    "scrolled": true
   },
   "outputs": [
    {
     "name": "stderr",
     "output_type": "stream",
     "text": [
      "/home/felix/anaconda3/lib/python3.7/site-packages/ipykernel_launcher.py:18: YAMLLoadWarning: calling yaml.load() without Loader=... is deprecated, as the default Loader is unsafe. Please read https://msg.pyyaml.org/load for full details.\n"
     ]
    },
    {
     "name": "stdout",
     "output_type": "stream",
     "text": [
      "scripts/do_sub_dim_rest-hid-1-exp-do_sub_dim_rest-layer-1-maximum_rank-300.sh\n",
      "scripts/do_sub_dim_rest-hid-1-exp-do_sub_dim_rest-layer-3-maximum_rank-300.sh\n",
      "scripts/do_sub_dim_rest-hid-1-exp-do_sub_dim_rest-layer-6-maximum_rank-300.sh\n",
      "scripts/do_sub_dim_rest-hid-1-exp-do_sub_dim_rest-layer-9-maximum_rank-300.sh\n",
      "scripts/do_sub_dim_rest-hid-1-exp-do_sub_dim_rest-layer-12-maximum_rank-300.sh\n"
     ]
    }
   ],
   "source": [
    "# for hidden_layers in [0,2]:\n",
    "hidden_layers=1\n",
    "#     for maximum_rank in [300,50,1000,10]:\n",
    "CUDA_VISIBLE_DEVICES=3\n",
    "do_sub_dim_rest=True\n",
    "name_prefix='do_sub_dim_rest'\n",
    "\n",
    "for maximum_rank in [300]:\n",
    "\n",
    "    for model_layer in  [1,3,6,9,12]:\n",
    "#         for corr_compute_method in ['average', 'weighted_average', 'max', 'random']:\n",
    "        for corr_compute_method in ['average','random']:\n",
    "\n",
    "            for corrupted_token_percent in [0.0,1.0]:\n",
    "                if corrupted_token_percent==1.0 and corr_compute_method!='random':\n",
    "                    continue\n",
    "\n",
    "#                 dim_num_list = [768, 400, 300, 200, 150, 125, 100, 90, 80, 70, 60, 50, 40, 30, 20,18,16,14,12,10,9,8,7,6,5,4,3,2,1]\n",
    "                dim_num_list = [400, 300, 200, 150, 125, 100, 90, 80, 70, 60, 50, 40, 30, 20,18,16,14,12,10,9,8,7,6,5,4,3,2,1]\n",
    "                \n",
    "#                 corrupted_token_percent = 0.0 # [0.0, 1.0]\n",
    "                if corr_compute_method!='random':\n",
    "                    dim_file = 'SA-dim-files/{}_corr_dim_layer_{}.tsv'.format(corr_compute_method,model_layer) \n",
    "                else:\n",
    "                    dim_file = 'SA-dim-files/{}_corr_dim.tsv'.format(corr_compute_method) \n",
    "                # ['SA-dim-files/average_corr_dim.tsv','SA-dim-files/weighted_average_corr_dim.tsv','SA-dim-files/max_corr_dim.tsv']\n",
    "\n",
    "#                     hidden_layer=1\n",
    "                exp_group_name='{}-layer-{}-maximum_rank-{}'.format(name_prefix,model_layer,maximum_rank)\n",
    "                results_file = '{}-hid-{}-results-{}.csv'.format(name_prefix,hidden_layers,exp_group_name)\n",
    "                bash_file = 'scripts/{}-hid-{}-exp-{}.sh'.format(name_prefix,hidden_layers,exp_group_name)\n",
    "                comment = '{}-hid-{}-exp-{}'.format(name_prefix,hidden_layers,exp_group_name)\n",
    "                gen_bash_file(maximum_rank,dim_num_list,comment,corrupted_token_percent,dim_file,model_layer,results_file,bash_file,corr_compute_method,hidden_layers,CUDA_VISIBLE_DEVICES,do_sub_dim_rest)\n",
    "        print(bash_file)\n",
    "\n"
   ]
  },
  {
   "cell_type": "code",
   "execution_count": null,
   "metadata": {},
   "outputs": [],
   "source": [
    "bash scripts/do_sub_dim_rest-hid-1-exp-do_sub_dim_rest-layer-1-maximum_rank-300.sh\n",
    "bash scripts/do_sub_dim_rest-hid-1-exp-do_sub_dim_rest-layer-3-maximum_rank-300.sh\n",
    "bash scripts/do_sub_dim_rest-hid-1-exp-do_sub_dim_rest-layer-12-maximum_rank-300.sh\n",
    "bash scripts/do_sub_dim_rest-hid-1-exp-do_sub_dim_rest-layer-6-maximum_rank-300.sh\n",
    "bash scripts/do_sub_dim_rest-hid-1-exp-do_sub_dim_rest-layer-9-maximum_rank-300.sh\n",
    "\n",
    "bash scripts/do_sub_dim_rest-hid-0-exp-do_sub_dim_rest-layer-1-maximum_rank-300.sh\n",
    "bash scripts/do_sub_dim_rest-hid-0-exp-do_sub_dim_rest-layer-3-maximum_rank-300.sh\n",
    "bash scripts/do_sub_dim_rest-hid-0-exp-do_sub_dim_rest-layer-12-maximum_rank-300.sh\n",
    "bash scripts/do_sub_dim_rest-hid-0-exp-do_sub_dim_rest-layer-6-maximum_rank-300.sh\n",
    "bash scripts/do_sub_dim_rest-hid-0-exp-do_sub_dim_rest-layer-9-maximum_rank-300.sh\n",
    "\n",
    "bash scripts/do_sub_dim_rest-hid-2-exp-do_sub_dim_rest-layer-1-maximum_rank-300.sh\n",
    "bash scripts/do_sub_dim_rest-hid-2-exp-do_sub_dim_rest-layer-3-maximum_rank-300.sh\n",
    "bash scripts/do_sub_dim_rest-hid-2-exp-do_sub_dim_rest-layer-12-maximum_rank-300.sh\n",
    "bash scripts/do_sub_dim_rest-hid-2-exp-do_sub_dim_rest-layer-6-maximum_rank-300.sh\n",
    "bash scripts/do_sub_dim_rest-hid-2-exp-do_sub_dim_rest-layer-9-maximum_rank-300.sh\n",
    "\n",
    "bash scripts/do_sub_dim_rest-hid-1-exp-do_sub_dim_rest-layer-1-maximum_rank-50.sh\n",
    "bash scripts/do_sub_dim_rest-hid-1-exp-do_sub_dim_rest-layer-3-maximum_rank-50.sh\n",
    "bash scripts/do_sub_dim_rest-hid-1-exp-do_sub_dim_rest-layer-12-maximum_rank-50.sh\n",
    "bash scripts/do_sub_dim_rest-hid-1-exp-do_sub_dim_rest-layer-6-maximum_rank-50.sh\n",
    "bash scripts/do_sub_dim_rest-hid-1-exp-do_sub_dim_rest-layer-9-maximum_rank-50.sh\n"
   ]
  },
  {
   "cell_type": "code",
   "execution_count": null,
   "metadata": {},
   "outputs": [],
   "source": [
    "bash scripts/hid-1-exp-layer-12-maximum_rank-1000.sh\n",
    "bash scripts/hid-1-exp-layer-12-maximum_rank-10.sh\n",
    "bash scripts/hid-1-exp-layer-12-maximum_rank-300.sh\n",
    "\n",
    "bash scripts/hid-1-exp-layer-12-maximum_rank-50.sh\n",
    "bash scripts/hid-1-exp-layer-1-maximum_rank-1000.sh\n",
    "bash scripts/hid-1-exp-layer-1-maximum_rank-10.sh\n",
    "\n",
    "bash scripts/hid-1-exp-layer-1-maximum_rank-300.sh\n",
    "bash scripts/hid-1-exp-layer-1-maximum_rank-50.sh\n",
    "bash scripts/hid-1-exp-layer-3-maximum_rank-1000.sh\n",
    "\n",
    "bash scripts/hid-1-exp-layer-3-maximum_rank-10.sh\n",
    "bash scripts/hid-1-exp-layer-3-maximum_rank-300.sh\n",
    "bash scripts/hid-1-exp-layer-3-maximum_rank-50.sh\n",
    "\n",
    "bash scripts/hid-1-exp-layer-6-maximum_rank-1000.sh\n",
    "bash scripts/hid-1-exp-layer-6-maximum_rank-10.sh\n",
    "bash scripts/hid-1-exp-layer-6-maximum_rank-300.sh\n",
    "\n",
    "bash scripts/hid-1-exp-layer-6-maximum_rank-50.sh\n",
    "bash scripts/hid-1-exp-layer-9-maximum_rank-1000.sh\n",
    "\n",
    "bash scripts/hid-1-exp-layer-9-maximum_rank-10.sh\n",
    "bash scripts/hid-1-exp-layer-9-maximum_rank-300.sh"
   ]
  },
  {
   "cell_type": "code",
   "execution_count": null,
   "metadata": {},
   "outputs": [],
   "source": [
    "bash scripts/hid-1-exp-layer-1-maximum_rank-10.sh\n",
    "bash scripts/hid-1-exp-layer-3-maximum_rank-50.sh\n",
    "bash scripts/hid-1-exp-layer-6-maximum_rank-50.sh\n",
    "\n",
    "bash scripts/hid-1-exp-layer-9-maximum_rank-50.sh\n",
    "bash scripts/hid-1-exp-layer-12-maximum_rank-50.sh\n",
    "bash scripts/hid-1-exp-layer-12-maximum_rank-1000.sh\n",
    "\n",
    "bash scripts/hid-1-exp-layer-3-maximum_rank-1000.sh\n",
    "bash scripts/hid-1-exp-layer-6-maximum_rank-1000.sh\n",
    "bash scripts/hid-1-exp-layer-9-maximum_rank-1000.sh\n",
    "\n",
    "bash scripts/hid-1-exp-layer-9-maximum_rank-10.sh\n",
    "bash scripts/hid-1-exp-layer-6-maximum_rank-10.sh\n",
    "bash scripts/hid-1-exp-layer-3-maximum_rank-10.sh\n",
    "bash scripts/hid-1-exp-layer-12-maximum_rank-10.sh\n",
    "\n"
   ]
  },
  {
   "cell_type": "code",
   "execution_count": null,
   "metadata": {},
   "outputs": [],
   "source": [
    "bash scripts/hid-2-exp-layer-1-maximum_rank-300.sh\n",
    "bash scripts/hid-2-exp-layer-3-maximum_rank-300.sh\n",
    "bash scripts/hid-2-exp-layer-6-maximum_rank-300.sh\n",
    "bash scripts/hid-2-exp-layer-9-maximum_rank-300.sh\n",
    "bash scripts/hid-2-exp-layer-12-maximum_rank-300.sh\n",
    "\n",
    "\n",
    "bash scripts/hid-0-exp-layer-1-maximum_rank-300.sh\n",
    "bash scripts/hid-0-exp-layer-3-maximum_rank-300.sh\n",
    "bash scripts/hid-0-exp-layer-6-maximum_rank-300.sh\n",
    "bash scripts/hid-0-exp-layer-9-maximum_rank-300.sh\n",
    "bash scripts/hid-0-exp-layer-12-maximum_rank-300.sh\n",
    "\n",
    "scripts/do_sub_dim_rest-hid-1-exp-do_sub_dim_rest-layer-1-maximum_rank-300.sh\n",
    "scripts/do_sub_dim_rest-hid-1-exp-do_sub_dim_rest-layer-3-maximum_rank-300.sh\n",
    "scripts/do_sub_dim_rest-hid-1-exp-do_sub_dim_rest-layer-6-maximum_rank-300.sh\n",
    "scripts/do_sub_dim_rest-hid-1-exp-do_sub_dim_rest-layer-9-maximum_rank-300.sh\n",
    "scripts/do_sub_dim_rest-hid-1-exp-do_sub_dim_rest-layer-12-maximum_rank-300.sh"
   ]
  }
 ],
 "metadata": {
  "kernelspec": {
   "display_name": "Python 3",
   "language": "python",
   "name": "python3"
  },
  "language_info": {
   "codemirror_mode": {
    "name": "ipython",
    "version": 3
   },
   "file_extension": ".py",
   "mimetype": "text/x-python",
   "name": "python",
   "nbconvert_exporter": "python",
   "pygments_lexer": "ipython3",
   "version": "3.7.4"
  }
 },
 "nbformat": 4,
 "nbformat_minor": 4
}
